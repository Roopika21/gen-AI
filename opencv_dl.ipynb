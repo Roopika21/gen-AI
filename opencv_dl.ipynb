{
 "cells": [
  {
   "cell_type": "code",
   "execution_count": 1,
   "metadata": {},
   "outputs": [],
   "source": [
    "from PIL import Image\n",
    "\n",
    "image = Image.open(\"rose.jpeg\")\n"
   ]
  },
  {
   "cell_type": "code",
   "execution_count": 2,
   "metadata": {},
   "outputs": [
    {
     "name": "stdout",
     "output_type": "stream",
     "text": [
      "Image format :  JPEG\n",
      "Image format :  (148, 148)\n",
      "Image format :  RGB\n"
     ]
    }
   ],
   "source": [
    "print(\"Image format : \",image.format)\n",
    "print(\"Image format : \",image.size)\n",
    "print(\"Image format : \",image.mode)"
   ]
  },
  {
   "cell_type": "code",
   "execution_count": 3,
   "metadata": {},
   "outputs": [],
   "source": [
    "image.show()"
   ]
  },
  {
   "cell_type": "code",
   "execution_count": 4,
   "metadata": {},
   "outputs": [
    {
     "name": "stdout",
     "output_type": "stream",
     "text": [
      "Collecting opencv-python\n",
      "  Obtaining dependency information for opencv-python from https://files.pythonhosted.org/packages/ec/6c/fab8113424af5049f85717e8e527ca3773299a3c6b02506e66436e19874f/opencv_python-4.10.0.84-cp37-abi3-win_amd64.whl.metadata\n",
      "  Downloading opencv_python-4.10.0.84-cp37-abi3-win_amd64.whl.metadata (20 kB)\n",
      "Requirement already satisfied: numpy>=1.21.2 in c:\\users\\student\\appdata\\local\\programs\\python\\python312\\lib\\site-packages (from opencv-python) (1.26.4)\n",
      "Downloading opencv_python-4.10.0.84-cp37-abi3-win_amd64.whl (38.8 MB)\n",
      "   ---------------------------------------- 0.0/38.8 MB ? eta -:--:--\n",
      "   ---------------------------------------- 0.0/38.8 MB ? eta -:--:--\n",
      "   ---------------------------------------- 0.0/38.8 MB 435.7 kB/s eta 0:01:30\n",
      "   ---------------------------------------- 0.1/38.8 MB 544.7 kB/s eta 0:01:12\n",
      "   ---------------------------------------- 0.1/38.8 MB 655.4 kB/s eta 0:01:00\n",
      "   ---------------------------------------- 0.1/38.8 MB 708.1 kB/s eta 0:00:55\n",
      "   ---------------------------------------- 0.2/38.8 MB 784.3 kB/s eta 0:00:50\n",
      "   ---------------------------------------- 0.2/38.8 MB 835.2 kB/s eta 0:00:47\n",
      "   ---------------------------------------- 0.3/38.8 MB 840.4 kB/s eta 0:00:46\n",
      "   ---------------------------------------- 0.3/38.8 MB 873.8 kB/s eta 0:00:45\n",
      "   ---------------------------------------- 0.4/38.8 MB 897.8 kB/s eta 0:00:43\n",
      "   ---------------------------------------- 0.5/38.8 MB 938.8 kB/s eta 0:00:41\n",
      "    --------------------------------------- 0.5/38.8 MB 992.2 kB/s eta 0:00:39\n",
      "    --------------------------------------- 0.6/38.8 MB 1.0 MB/s eta 0:00:38\n",
      "    --------------------------------------- 0.7/38.8 MB 1.1 MB/s eta 0:00:36\n",
      "    --------------------------------------- 0.7/38.8 MB 1.1 MB/s eta 0:00:34\n",
      "    --------------------------------------- 0.8/38.8 MB 1.2 MB/s eta 0:00:33\n",
      "    --------------------------------------- 0.9/38.8 MB 1.2 MB/s eta 0:00:32\n",
      "   - -------------------------------------- 1.0/38.8 MB 1.2 MB/s eta 0:00:31\n",
      "   - -------------------------------------- 1.1/38.8 MB 1.3 MB/s eta 0:00:30\n",
      "   - -------------------------------------- 1.2/38.8 MB 1.3 MB/s eta 0:00:28\n",
      "   - -------------------------------------- 1.3/38.8 MB 1.4 MB/s eta 0:00:28\n",
      "   - -------------------------------------- 1.4/38.8 MB 1.4 MB/s eta 0:00:27\n",
      "   - -------------------------------------- 1.6/38.8 MB 1.5 MB/s eta 0:00:25\n",
      "   - -------------------------------------- 1.7/38.8 MB 1.5 MB/s eta 0:00:25\n",
      "   - -------------------------------------- 1.8/38.8 MB 1.6 MB/s eta 0:00:23\n",
      "   -- ------------------------------------- 2.0/38.8 MB 1.7 MB/s eta 0:00:23\n",
      "   -- ------------------------------------- 2.1/38.8 MB 1.7 MB/s eta 0:00:22\n",
      "   -- ------------------------------------- 2.3/38.8 MB 1.8 MB/s eta 0:00:21\n",
      "   -- ------------------------------------- 2.4/38.8 MB 1.8 MB/s eta 0:00:20\n",
      "   -- ------------------------------------- 2.6/38.8 MB 1.9 MB/s eta 0:00:19\n",
      "   -- ------------------------------------- 2.8/38.8 MB 2.0 MB/s eta 0:00:19\n",
      "   --- ------------------------------------ 3.0/38.8 MB 2.1 MB/s eta 0:00:18\n",
      "   --- ------------------------------------ 3.2/38.8 MB 2.2 MB/s eta 0:00:17\n",
      "   --- ------------------------------------ 3.5/38.8 MB 2.2 MB/s eta 0:00:16\n",
      "   --- ------------------------------------ 3.7/38.8 MB 2.3 MB/s eta 0:00:16\n",
      "   ---- ----------------------------------- 4.0/38.8 MB 2.4 MB/s eta 0:00:15\n",
      "   ---- ----------------------------------- 4.3/38.8 MB 2.5 MB/s eta 0:00:14\n",
      "   ---- ----------------------------------- 4.6/38.8 MB 2.6 MB/s eta 0:00:14\n",
      "   ---- ----------------------------------- 4.9/38.8 MB 2.7 MB/s eta 0:00:13\n",
      "   ----- ---------------------------------- 5.2/38.8 MB 2.8 MB/s eta 0:00:12\n",
      "   ----- ---------------------------------- 5.6/38.8 MB 3.0 MB/s eta 0:00:12\n",
      "   ------ --------------------------------- 5.9/38.8 MB 3.1 MB/s eta 0:00:11\n",
      "   ------ --------------------------------- 6.3/38.8 MB 3.2 MB/s eta 0:00:11\n",
      "   ------ --------------------------------- 6.7/38.8 MB 3.3 MB/s eta 0:00:10\n",
      "   ------- -------------------------------- 7.2/38.8 MB 3.5 MB/s eta 0:00:10\n",
      "   ------- -------------------------------- 7.7/38.8 MB 3.6 MB/s eta 0:00:09\n",
      "   -------- ------------------------------- 8.2/38.8 MB 3.8 MB/s eta 0:00:09\n",
      "   -------- ------------------------------- 8.7/38.8 MB 3.9 MB/s eta 0:00:08\n",
      "   --------- ------------------------------ 9.2/38.8 MB 4.1 MB/s eta 0:00:08\n",
      "   ---------- ----------------------------- 9.8/38.8 MB 4.3 MB/s eta 0:00:07\n",
      "   ---------- ----------------------------- 10.3/38.8 MB 4.6 MB/s eta 0:00:07\n",
      "   ----------- ---------------------------- 10.7/38.8 MB 5.4 MB/s eta 0:00:06\n",
      "   ----------- ---------------------------- 11.4/38.8 MB 6.5 MB/s eta 0:00:05\n",
      "   ------------ --------------------------- 12.1/38.8 MB 7.6 MB/s eta 0:00:04\n",
      "   ------------- -------------------------- 12.9/38.8 MB 8.7 MB/s eta 0:00:03\n",
      "   -------------- ------------------------- 13.6/38.8 MB 9.8 MB/s eta 0:00:03\n",
      "   -------------- ------------------------- 14.5/38.8 MB 10.9 MB/s eta 0:00:03\n",
      "   --------------- ------------------------ 15.4/38.8 MB 12.1 MB/s eta 0:00:02\n",
      "   ---------------- ----------------------- 16.4/38.8 MB 13.4 MB/s eta 0:00:02\n",
      "   ----------------- ---------------------- 17.4/38.8 MB 14.6 MB/s eta 0:00:02\n",
      "   ------------------- -------------------- 18.5/38.8 MB 15.6 MB/s eta 0:00:02\n",
      "   -------------------- ------------------- 19.6/38.8 MB 16.8 MB/s eta 0:00:02\n",
      "   --------------------- ------------------ 20.8/38.8 MB 19.2 MB/s eta 0:00:01\n",
      "   ---------------------- ----------------- 22.0/38.8 MB 21.1 MB/s eta 0:00:01\n",
      "   ------------------------ --------------- 23.4/38.8 MB 22.6 MB/s eta 0:00:01\n",
      "   ------------------------- -------------- 24.9/38.8 MB 25.2 MB/s eta 0:00:01\n",
      "   --------------------------- ------------ 26.4/38.8 MB 26.2 MB/s eta 0:00:01\n",
      "   ---------------------------- ----------- 28.0/38.8 MB 28.5 MB/s eta 0:00:01\n",
      "   ------------------------------ --------- 29.8/38.8 MB 31.2 MB/s eta 0:00:01\n",
      "   -------------------------------- ------- 31.4/38.8 MB 32.7 MB/s eta 0:00:01\n",
      "   --------------------------------- ------ 32.9/38.8 MB 34.4 MB/s eta 0:00:01\n",
      "   ----------------------------------- ---- 34.9/38.8 MB 36.3 MB/s eta 0:00:01\n",
      "   -------------------------------------- - 37.0/38.8 MB 38.6 MB/s eta 0:00:01\n",
      "   ---------------------------------------  38.8/38.8 MB 40.9 MB/s eta 0:00:01\n",
      "   ---------------------------------------  38.8/38.8 MB 40.9 MB/s eta 0:00:01\n",
      "   ---------------------------------------- 38.8/38.8 MB 29.8 MB/s eta 0:00:00\n",
      "Installing collected packages: opencv-python\n",
      "Successfully installed opencv-python-4.10.0.84\n"
     ]
    },
    {
     "name": "stderr",
     "output_type": "stream",
     "text": [
      "\n",
      "[notice] A new release of pip is available: 23.2.1 -> 24.2\n",
      "[notice] To update, run: python.exe -m pip install --upgrade pip\n"
     ]
    }
   ],
   "source": [
    "!pip install opencv-python"
   ]
  },
  {
   "cell_type": "code",
   "execution_count": null,
   "metadata": {},
   "outputs": [],
   "source": [
    "import cv2\n",
    "color_image = cv2.imread('rose.jpeg')\n",
    "gray_image = cv2.cvtColor(color_image, cv2.COLOR_BGR2RGB)\n",
    "cv2.imshow('Color Image',color_image)\n",
    "cv2.imshow('grayscale IMAGE',gray_image)\n",
    "cv2.waitKey(0)\n",
    "cv2.destroyAllWindows()"
   ]
  },
  {
   "cell_type": "code",
   "execution_count": null,
   "metadata": {},
   "outputs": [],
   "source": [
    "import cv2\n",
    "image = cv2.imread('rose.jpeg')\n",
    "blurred_image = cv2.GaussianBlur(image,(15,15),0)\n",
    "cv2.imshow('Original Image',image)\n",
    "cv2.imshow('Blurred Image',blurred_image)\n",
    "cv2.waitKey(0)\n",
    "cv2.destroyAllWindows()"
   ]
  },
  {
   "cell_type": "code",
   "execution_count": null,
   "metadata": {},
   "outputs": [],
   "source": [
    "import cv2\n",
    "image = cv2.imread('rose.jpeg')\n",
    "blurred_image = cv2.GaussianBlur(image,(15,15),0)\n",
    "cv2.imshow('Original Image',image)\n",
    "cv2.imshow('Blurred Image',blurred_image)\n",
    "cv2.waitKey(0)\n",
    "cv2.destroyAllWindows()"
   ]
  }
 ],
 "metadata": {
  "kernelspec": {
   "display_name": "Python 3",
   "language": "python",
   "name": "python3"
  },
  "language_info": {
   "codemirror_mode": {
    "name": "ipython",
    "version": 3
   },
   "file_extension": ".py",
   "mimetype": "text/x-python",
   "name": "python",
   "nbconvert_exporter": "python",
   "pygments_lexer": "ipython3",
   "version": "3.12.0"
  }
 },
 "nbformat": 4,
 "nbformat_minor": 2
}
